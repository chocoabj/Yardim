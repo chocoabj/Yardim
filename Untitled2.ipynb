{
  "nbformat": 4,
  "nbformat_minor": 0,
  "metadata": {
    "colab": {
      "provenance": [],
      "authorship_tag": "ABX9TyMdsa2OdtXiLBjWwsdfx8g8",
      "include_colab_link": true
    },
    "kernelspec": {
      "name": "python3",
      "display_name": "Python 3"
    },
    "language_info": {
      "name": "python"
    }
  },
  "cells": [
    {
      "cell_type": "markdown",
      "metadata": {
        "id": "view-in-github",
        "colab_type": "text"
      },
      "source": [
        "<a href=\"https://colab.research.google.com/github/chocoabj/Yardim/blob/main/Untitled2.ipynb\" target=\"_parent\"><img src=\"https://colab.research.google.com/assets/colab-badge.svg\" alt=\"Open In Colab\"/></a>"
      ]
    },
    {
      "cell_type": "code",
      "source": [
        "import pyodbc\n",
        "\n",
        "# Nome do DSN configurado no Windows\n",
        "dsn_name = \"estudo\"\n",
        "\n",
        "try:\n",
        "    # Conexão utilizando DSN e autenticação integrada do Windows\n",
        "    conn = pyodbc.connect(f\"DSN={dsn_name};Trusted_Connection=yes;\")\n",
        "    print(\"Conexão bem-sucedida!\")\n",
        "\n",
        "    # Criar um cursor para executar consultas\n",
        "    cursor = conn.cursor()\n",
        "\n",
        "    # Exemplo de consulta\n",
        "    cursor.execute(\"SELECT @@VERSION;\")\n",
        "    row = cursor.fetchone()\n",
        "    print(f\"Versão do SQL Server: {row[0]}\")\n",
        "\n",
        "    # Fechar cursor e conexão\n",
        "    cursor.close()\n",
        "    conn.close()\n",
        "\n",
        "except pyodbc.Error as e:\n",
        "    print(\"Erro ao conectar ao banco de dados:\")\n",
        "    print(e)\n"
      ],
      "metadata": {
        "colab": {
          "base_uri": "https://localhost:8080/"
        },
        "id": "-HHA90lDFevJ",
        "outputId": "1dcf52ac-18f0-4d12-d430-c594cfd9f306"
      },
      "execution_count": null,
      "outputs": [
        {
          "output_type": "stream",
          "name": "stdout",
          "text": [
            "Erro ao conectar ao banco de dados:\n",
            "('IM002', '[IM002] [unixODBC][Driver Manager]Data source name not found and no default driver specified (0) (SQLDriverConnect)')\n"
          ]
        }
      ]
    }
  ]
}